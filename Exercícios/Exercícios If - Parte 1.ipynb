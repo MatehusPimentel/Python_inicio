{
 "cells": [
  {
   "cell_type": "markdown",
   "metadata": {},
   "source": [
    "# Exercícios com if"
   ]
  },
  {
   "cell_type": "markdown",
   "metadata": {},
   "source": [
    "## 1. Cálculo de Bônus\n",
    "\n",
    "- Crie um programa que calcule e dê um print no bônus que os funcionários devem receber segundo a regra:\n",
    "\n",
    "A meta é 1000 vendas.<br> \n",
    "Se o valor de vendas for maior ou igual a meta, o valor do bônus do funcionário é 10% do valor de vendas.<br>\n",
    "Caso contrário o valor de bônus do funcionário é 0.<br>\n",
    "Print o bônus dos 3 funcionários"
   ]
  },
  {
   "cell_type": "code",
   "execution_count": 13,
   "metadata": {},
   "outputs": [
    {
     "name": "stdout",
     "output_type": "stream",
     "text": [
      "O bonus do funcionário 1 é de R$100.0\n",
      "O bonus do funcionário 2 é de R$0\n",
      "O bonus do funcionário 3 é de R$270.0\n"
     ]
    }
   ],
   "source": [
    "vendas_funcionario1 = 1000\n",
    "vendas_funcionario2 = 770\n",
    "vendas_funcionario3 = 2700\n",
    "\n",
    "#crie seu código aqui\n",
    "\n",
    "\n",
    "if vendas_funcionario1 >= 1000:\n",
    "    bonus1 = 0.1\n",
    "else:\n",
    "    bonus1 = 0\n",
    "\n",
    "if vendas_funcionario2 >= 1000:\n",
    "    bonus2 = 0.1\n",
    "else:\n",
    "    bonus2 = 0\n",
    "\n",
    "if vendas_funcionario3 >= 1000:\n",
    "    bonus3 = 0.1\n",
    "else:\n",
    "    bonus3 = 0\n",
    "\n",
    "print(f\"O bonus do funcionário 1 é de R${vendas_funcionario1 * bonus1}\")\n",
    "print(f\"O bonus do funcionário 2 é de R${vendas_funcionario2 * bonus2}\")\n",
    "print(f\"O bonus do funcionário 3 é de R${vendas_funcionario3 * bonus3}\")"
   ]
  },
  {
   "cell_type": "raw",
   "metadata": {},
   "source": [
    "Resposta:\n",
    "O funcionário 1 ganhou 100 de bônus\n",
    "O funcionário 2 ganhou 0 de bônus\n",
    "O funcionário 3 ganhou 270 de bônus"
   ]
  },
  {
   "cell_type": "markdown",
   "metadata": {},
   "source": [
    "## 2. Cálculo de bônus com uma nova regra\n",
    "\n",
    "- Agora, crie um novo código que calcule e dê um print no bônus dos funcionários novamente. Porém há uma nova regra nesse 2º caso:\n",
    "\n",
    "A meta é 1000 vendas<br>\n",
    "Agora, os funcionários que venderem muito acima da meta ganham mais bônus do que os outros. Então o bônus é definido da seguinte forma:<br>\n",
    "\n",
    "- Se vendas funcionário for maior ou igual a 2000, então o bônus é de 15% sobre o valor de vendas\n",
    "- Se vendas funcionário for menor do que 2000 e maior ou igual a 1000, então o bônus é de 10% sobre o valor de vendas\n",
    "- Se vendas funcionário for menos do que 1000 então o bônus do funcionário é de 0.\n",
    "\n",
    "Use as mesmas variáveis de vendas_funcionários"
   ]
  },
  {
   "cell_type": "code",
   "execution_count": 14,
   "metadata": {},
   "outputs": [
    {
     "name": "stdout",
     "output_type": "stream",
     "text": [
      "1000\n",
      "770\n",
      "2700\n"
     ]
    }
   ],
   "source": [
    "#crie seu código aqui\n",
    "if vendas_funcionario1 >= 1000:\n",
    "    if vendas_funcionario1 >= 2000:\n",
    "        bonus1 = 0.15\n",
    "else:\n",
    "    bonus1 = 0\n",
    "        \n",
    "if vendas_funcionario2 >= 1000:\n",
    "    bonus2 = 0.1\n",
    "    if vendas_funcionario2 >= 2000:\n",
    "        bonus2 = 0.15\n",
    "else:\n",
    "    bonus2 = 0\n",
    "    \n",
    "if vendas_funcionario3 >= 1000:\n",
    "    bonus3 = 0.15\n",
    "    if vendas_funcionario3 >= 2000:\n",
    "        bonus3 = 0.1\n",
    "else:\n",
    "    bonus3 = 0\n",
    "    \n",
    "print(vendas_funcionario1)\n",
    "print(vendas_funcionario2)\n",
    "print(vendas_funcionario3)\n",
    "#obs: há 2 formas de fazer, com if dentro de if ou então com if e elif. Escolha a que você preferir"
   ]
  },
  {
   "cell_type": "raw",
   "metadata": {},
   "source": [
    "Resposta:\n",
    "O funcionário 1 ganhou 100 de bônus\n",
    "O funcionário 2 ganhou 0 de bônus\n",
    "O funcionário 3 ganhou 405 de bônus"
   ]
  }
 ],
 "metadata": {
  "kernelspec": {
   "display_name": "Python 3",
   "language": "python",
   "name": "python3"
  },
  "language_info": {
   "codemirror_mode": {
    "name": "ipython",
    "version": 3
   },
   "file_extension": ".py",
   "mimetype": "text/x-python",
   "name": "python",
   "nbconvert_exporter": "python",
   "pygments_lexer": "ipython3",
   "version": "3.12.8"
  }
 },
 "nbformat": 4,
 "nbformat_minor": 4
}
